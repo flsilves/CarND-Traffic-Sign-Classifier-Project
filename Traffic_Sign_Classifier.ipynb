{
 "cells": [
  {
   "cell_type": "markdown",
   "metadata": {},
   "source": [
    "# Self-Driving Car Engineer Nanodegree\n",
    "\n",
    "## Deep Learning\n",
    "\n",
    "## Project: Build a Traffic Sign Recognition Classifier"
   ]
  },
  {
   "cell_type": "markdown",
   "metadata": {},
   "source": [
    "---\n",
    "## Step 0: Load The Data"
   ]
  },
  {
   "cell_type": "code",
   "execution_count": 108,
   "metadata": {
    "collapsed": false
   },
   "outputs": [
    {
     "output_type": "stream",
     "name": "stdout",
     "text": [
      "Datasets loaded successfully\n"
     ]
    }
   ],
   "source": [
    "import pickle\n",
    "import logging\n",
    "\n",
    "training_file = \"traffic-signs-data/train.p\"\n",
    "validation_file= \"traffic-signs-data/valid.p\"\n",
    "testing_file = \"traffic-signs-data/test.p\"\n",
    "\n",
    "\n",
    "with open(training_file, mode='rb') as f:\n",
    "    train = pickle.load(f)\n",
    "with open(validation_file, mode='rb') as f:\n",
    "    valid = pickle.load(f)\n",
    "with open(testing_file, mode='rb') as f:\n",
    "    test = pickle.load(f)\n",
    "    \n",
    "X_train, y_train = train['features'], train['labels']\n",
    "X_valid, y_valid = valid['features'], valid['labels']\n",
    "X_test, y_test = test['features'], test['labels']\n",
    "\n",
    "sizes_train, coord_train = train['sizes'], train['coords']\n",
    "sizes_valid, coord_valid = valid['sizes'], valid['coords']\n",
    "sizes_test, coord_test = test['sizes'], test['coords']\n",
    "\n",
    "\n",
    "print(\"Datasets loaded successfully\")"
   ]
  },
  {
   "cell_type": "markdown",
   "metadata": {},
   "source": [
    "---\n",
    "\n",
    "## Step 1: Dataset Summary & Exploration\n",
    "\n",
    "The pickled data is a dictionary with 4 key/value pairs:\n",
    "\n",
    "- `'features'` is a 4D array containing raw pixel data of the traffic sign images, (num examples, width, height, channels).\n",
    "- `'labels'` is a 1D array containing the label/class id of the traffic sign. The file `signnames.csv` contains id -> name mappings for each id.\n",
    "- `'sizes'` is a list containing tuples, (width, height) representing the original width and height the image.\n",
    "- `'coords'` is a list containing tuples, (x1, y1, x2, y2) representing coordinates of a bounding box around the sign in the image. **THESE COORDINATES ASSUME THE ORIGINAL IMAGE. THE PICKLED DATA CONTAINS RESIZED VERSIONS (32 by 32) OF THESE IMAGES**\n",
    "\n",
    "Complete the basic data summary below. Use python, numpy and/or pandas methods to calculate the data summary rather than hard coding the results. For example, the [pandas shape method](http://pandas.pydata.org/pandas-docs/stable/generated/pandas.DataFrame.shape.html) might be useful for calculating some of the summary results. "
   ]
  },
  {
   "cell_type": "markdown",
   "metadata": {},
   "source": [
    "### Provide a Basic Summary of the Data Set Using Python, Numpy and/or Pandas"
   ]
  },
  {
   "cell_type": "code",
   "execution_count": 78,
   "metadata": {
    "collapsed": true
   },
   "outputs": [
    {
     "output_type": "stream",
     "name": "stdout",
     "text": [
      "Number of training examples = 34799 (67.1%)\nNumber of validation examples = 4410 (8.5%)\nNumber of testing examples = 12630 (24.4%)\nImage data shape = (32, 32, 3)\nNumber of classes = 43\n"
     ]
    }
   ],
   "source": [
    "import numpy as np\n",
    "import pandas as pd\n",
    "\n",
    "assert (len(X_train) == len(y_train))\n",
    "assert (len(X_valid) == len(y_valid))\n",
    "assert (len(X_test)  == len(y_test))\n",
    "\n",
    "\n",
    "# Number of training examples\n",
    "n_train = y_train.size\n",
    "\n",
    "# Number of validation examples\n",
    "n_validation =  y_valid.size\n",
    "\n",
    "#  Number of testing examples.\n",
    "n_test = y_test.size\n",
    "\n",
    "#  What's the shape of an traffic sign image?\n",
    "image_shape = X_train[0].shape\n",
    "\n",
    "#  How many unique classes/labels there are in the dataset.\n",
    "n_classes = np.unique(np.concatenate((y_train, y_valid, y_test)))\n",
    "\n",
    "# Total samples in dataset\n",
    "n_total = n_train + n_validation + n_test\n",
    "\n",
    "print(\"Number of training examples = {:d} ({:2.1f}%)\".format(n_train, (n_train/n_total)*100))\n",
    "print(\"Number of validation examples = {:d} ({:2.1f}%)\".format(n_validation, (n_validation/n_total)*100))\n",
    "print(\"Number of testing examples = {:d} ({:2.1f}%)\".format(n_test, (n_test/n_total)*100))\n",
    "print(\"Image data shape = {}\".format(image_shape))\n",
    "print(\"Number of classes = {:d}\".format(len(n_classes)))\n"
   ]
  },
  {
   "cell_type": "markdown",
   "metadata": {},
   "source": [
    "### Include an exploratory visualization of the dataset"
   ]
  },
  {
   "cell_type": "markdown",
   "metadata": {},
   "source": [
    "Visualize the German Traffic Signs Dataset using the pickled file(s). This is open ended, suggestions include: plotting traffic sign images, plotting the count of each sign, etc. \n",
    "\n",
    "The [Matplotlib](http://matplotlib.org/) [examples](http://matplotlib.org/examples/index.html) and [gallery](http://matplotlib.org/gallery.html) pages are a great resource for doing visualizations in Python.\n",
    "\n",
    "**NOTE:** It's recommended you start with something simple first. If you wish to do more, come back to it after you've completed the rest of the sections. It can be interesting to look at the distribution of classes in the training, validation and test set. Is the distribution the same? Are there more examples of some classes than others?"
   ]
  },
  {
   "cell_type": "code",
   "execution_count": 129,
   "metadata": {},
   "outputs": [
    {
     "output_type": "stream",
     "name": "stdout",
     "text": [
      "Displaying image #29558\n\nLabel:  'Stop' [14]\nOriginal size:  [55 55]\nSign coordinates:  [ 6  6 50 50]\n"
     ]
    },
    {
     "output_type": "execute_result",
     "data": {
      "text/plain": [
       "<matplotlib.image.AxesImage at 0x7fbd55d89b20>"
      ]
     },
     "metadata": {},
     "execution_count": 129
    },
    {
     "output_type": "display_data",
     "data": {
      "text/plain": "<Figure size 72x72 with 1 Axes>",
      "image/svg+xml": "<?xml version=\"1.0\" encoding=\"utf-8\" standalone=\"no\"?>\n<!DOCTYPE svg PUBLIC \"-//W3C//DTD SVG 1.1//EN\"\n  \"http://www.w3.org/Graphics/SVG/1.1/DTD/svg11.dtd\">\n<!-- Created with matplotlib (https://matplotlib.org/) -->\n<svg height=\"88.387969pt\" version=\"1.1\" viewBox=\"0 0 88.485 88.387969\" width=\"88.485pt\" xmlns=\"http://www.w3.org/2000/svg\" xmlns:xlink=\"http://www.w3.org/1999/xlink\">\n <metadata>\n  <rdf:RDF xmlns:cc=\"http://creativecommons.org/ns#\" xmlns:dc=\"http://purl.org/dc/elements/1.1/\" xmlns:rdf=\"http://www.w3.org/1999/02/22-rdf-syntax-ns#\">\n   <cc:Work>\n    <dc:type rdf:resource=\"http://purl.org/dc/dcmitype/StillImage\"/>\n    <dc:date>2020-11-01T21:50:55.302853</dc:date>\n    <dc:format>image/svg+xml</dc:format>\n    <dc:creator>\n     <cc:Agent>\n      <dc:title>Matplotlib v3.3.2, https://matplotlib.org/</dc:title>\n     </cc:Agent>\n    </dc:creator>\n   </cc:Work>\n  </rdf:RDF>\n </metadata>\n <defs>\n  <style type=\"text/css\">*{stroke-linecap:butt;stroke-linejoin:round;}</style>\n </defs>\n <g id=\"figure_1\">\n  <g id=\"patch_1\">\n   <path d=\"M 0 88.387969 \nL 88.485 88.387969 \nL 88.485 0 \nL 0 0 \nz\n\" style=\"fill:none;\"/>\n  </g>\n  <g id=\"axes_1\">\n   <g id=\"patch_2\">\n    <path d=\"M 26.925 64.509844 \nL 81.285 64.509844 \nL 81.285 10.149844 \nL 26.925 10.149844 \nz\n\" style=\"fill:#ffffff;\"/>\n   </g>\n   <g clip-path=\"url(#p6660077c9f)\">\n    <image height=\"55\" id=\"imagea9614d56b7\" transform=\"scale(1 -1)translate(0 -55)\" width=\"55\" x=\"26.925\" xlink:href=\"data:image/png;base64,\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\" y=\"-9.509844\"/>\n   </g>\n   <g id=\"matplotlib.axis_1\">\n    <g id=\"xtick_1\">\n     <g id=\"line2d_1\">\n      <defs>\n       <path d=\"M 0 0 \nL 0 3.5 \n\" id=\"mba803bcce1\" style=\"stroke:#000000;stroke-width:0.8;\"/>\n      </defs>\n      <g>\n       <use style=\"stroke:#000000;stroke-width:0.8;\" x=\"27.774375\" xlink:href=\"#mba803bcce1\" y=\"64.509844\"/>\n      </g>\n     </g>\n     <g id=\"text_1\">\n      <!-- 0 -->\n      <g transform=\"translate(24.593125 79.108281)scale(0.1 -0.1)\">\n       <defs>\n        <path d=\"M 31.78125 66.40625 \nQ 24.171875 66.40625 20.328125 58.90625 \nQ 16.5 51.421875 16.5 36.375 \nQ 16.5 21.390625 20.328125 13.890625 \nQ 24.171875 6.390625 31.78125 6.390625 \nQ 39.453125 6.390625 43.28125 13.890625 \nQ 47.125 21.390625 47.125 36.375 \nQ 47.125 51.421875 43.28125 58.90625 \nQ 39.453125 66.40625 31.78125 66.40625 \nz\nM 31.78125 74.21875 \nQ 44.046875 74.21875 50.515625 64.515625 \nQ 56.984375 54.828125 56.984375 36.375 \nQ 56.984375 17.96875 50.515625 8.265625 \nQ 44.046875 -1.421875 31.78125 -1.421875 \nQ 19.53125 -1.421875 13.0625 8.265625 \nQ 6.59375 17.96875 6.59375 36.375 \nQ 6.59375 54.828125 13.0625 64.515625 \nQ 19.53125 74.21875 31.78125 74.21875 \nz\n\" id=\"DejaVuSans-48\"/>\n       </defs>\n       <use xlink:href=\"#DejaVuSans-48\"/>\n      </g>\n     </g>\n    </g>\n    <g id=\"xtick_2\">\n     <g id=\"line2d_2\">\n      <g>\n       <use style=\"stroke:#000000;stroke-width:0.8;\" x=\"70.243125\" xlink:href=\"#mba803bcce1\" y=\"64.509844\"/>\n      </g>\n     </g>\n     <g id=\"text_2\">\n      <!-- 25 -->\n      <g transform=\"translate(63.880625 79.108281)scale(0.1 -0.1)\">\n       <defs>\n        <path d=\"M 19.1875 8.296875 \nL 53.609375 8.296875 \nL 53.609375 0 \nL 7.328125 0 \nL 7.328125 8.296875 \nQ 12.9375 14.109375 22.625 23.890625 \nQ 32.328125 33.6875 34.8125 36.53125 \nQ 39.546875 41.84375 41.421875 45.53125 \nQ 43.3125 49.21875 43.3125 52.78125 \nQ 43.3125 58.59375 39.234375 62.25 \nQ 35.15625 65.921875 28.609375 65.921875 \nQ 23.96875 65.921875 18.8125 64.3125 \nQ 13.671875 62.703125 7.8125 59.421875 \nL 7.8125 69.390625 \nQ 13.765625 71.78125 18.9375 73 \nQ 24.125 74.21875 28.421875 74.21875 \nQ 39.75 74.21875 46.484375 68.546875 \nQ 53.21875 62.890625 53.21875 53.421875 \nQ 53.21875 48.921875 51.53125 44.890625 \nQ 49.859375 40.875 45.40625 35.40625 \nQ 44.1875 33.984375 37.640625 27.21875 \nQ 31.109375 20.453125 19.1875 8.296875 \nz\n\" id=\"DejaVuSans-50\"/>\n        <path d=\"M 10.796875 72.90625 \nL 49.515625 72.90625 \nL 49.515625 64.59375 \nL 19.828125 64.59375 \nL 19.828125 46.734375 \nQ 21.96875 47.46875 24.109375 47.828125 \nQ 26.265625 48.1875 28.421875 48.1875 \nQ 40.625 48.1875 47.75 41.5 \nQ 54.890625 34.8125 54.890625 23.390625 \nQ 54.890625 11.625 47.5625 5.09375 \nQ 40.234375 -1.421875 26.90625 -1.421875 \nQ 22.3125 -1.421875 17.546875 -0.640625 \nQ 12.796875 0.140625 7.71875 1.703125 \nL 7.71875 11.625 \nQ 12.109375 9.234375 16.796875 8.0625 \nQ 21.484375 6.890625 26.703125 6.890625 \nQ 35.15625 6.890625 40.078125 11.328125 \nQ 45.015625 15.765625 45.015625 23.390625 \nQ 45.015625 31 40.078125 35.4375 \nQ 35.15625 39.890625 26.703125 39.890625 \nQ 22.75 39.890625 18.8125 39.015625 \nQ 14.890625 38.140625 10.796875 36.28125 \nz\n\" id=\"DejaVuSans-53\"/>\n       </defs>\n       <use xlink:href=\"#DejaVuSans-50\"/>\n       <use x=\"63.623047\" xlink:href=\"#DejaVuSans-53\"/>\n      </g>\n     </g>\n    </g>\n   </g>\n   <g id=\"matplotlib.axis_2\">\n    <g id=\"ytick_1\">\n     <g id=\"line2d_3\">\n      <defs>\n       <path d=\"M 0 0 \nL -3.5 0 \n\" id=\"m1a2a9f41ba\" style=\"stroke:#000000;stroke-width:0.8;\"/>\n      </defs>\n      <g>\n       <use style=\"stroke:#000000;stroke-width:0.8;\" x=\"26.925\" xlink:href=\"#m1a2a9f41ba\" y=\"10.999219\"/>\n      </g>\n     </g>\n     <g id=\"text_3\">\n      <!-- 0 -->\n      <g transform=\"translate(13.5625 14.798437)scale(0.1 -0.1)\">\n       <use xlink:href=\"#DejaVuSans-48\"/>\n      </g>\n     </g>\n    </g>\n    <g id=\"ytick_2\">\n     <g id=\"line2d_4\">\n      <g>\n       <use style=\"stroke:#000000;stroke-width:0.8;\" x=\"26.925\" xlink:href=\"#m1a2a9f41ba\" y=\"44.974219\"/>\n      </g>\n     </g>\n     <g id=\"text_4\">\n      <!-- 20 -->\n      <g transform=\"translate(7.2 48.773438)scale(0.1 -0.1)\">\n       <use xlink:href=\"#DejaVuSans-50\"/>\n       <use x=\"63.623047\" xlink:href=\"#DejaVuSans-48\"/>\n      </g>\n     </g>\n    </g>\n   </g>\n   <g id=\"patch_3\">\n    <path d=\"M 26.925 64.509844 \nL 26.925 10.149844 \n\" style=\"fill:none;stroke:#000000;stroke-linecap:square;stroke-linejoin:miter;stroke-width:0.8;\"/>\n   </g>\n   <g id=\"patch_4\">\n    <path d=\"M 81.285 64.509844 \nL 81.285 10.149844 \n\" style=\"fill:none;stroke:#000000;stroke-linecap:square;stroke-linejoin:miter;stroke-width:0.8;\"/>\n   </g>\n   <g id=\"patch_5\">\n    <path d=\"M 26.925 64.509844 \nL 81.285 64.509844 \n\" style=\"fill:none;stroke:#000000;stroke-linecap:square;stroke-linejoin:miter;stroke-width:0.8;\"/>\n   </g>\n   <g id=\"patch_6\">\n    <path d=\"M 26.925 10.149844 \nL 81.285 10.149844 \n\" style=\"fill:none;stroke:#000000;stroke-linecap:square;stroke-linejoin:miter;stroke-width:0.8;\"/>\n   </g>\n  </g>\n </g>\n <defs>\n  <clipPath id=\"p6660077c9f\">\n   <rect height=\"54.36\" width=\"54.36\" x=\"26.925\" y=\"10.149844\"/>\n  </clipPath>\n </defs>\n</svg>\n",
      "image/png": "[encoded data removed]"
     },
     "metadata": {
      "needs_background": "light"
     }
    }
   ],
   "source": [
    "# Display random input from the dataset\n",
    "import csv\n",
    "import random\n",
    "import matplotlib.pyplot as plt\n",
    "%matplotlib inline\n",
    "\n",
    "signnames = {}\n",
    "\n",
    "with open('signnames.csv', mode='r') as infile:\n",
    "    reader = csv.reader(infile)\n",
    "    for row in reader:\n",
    "        signnames[row[0]] = row[1]\n",
    "\n",
    "\n",
    "idx = random.randint(0, n_train-1)\n",
    "label_id = y_train[idx]\n",
    "label_name = signnames[str(label_id)]\n",
    "feature = X_train[idx]\n",
    "\n",
    "original_size = sizes_train[idx]\n",
    "sign_coordinates = coord_train[idx]\n",
    "\n",
    "print(\"Displaying image #{:d}\\n\".format(idx))\n",
    "print(\"Label:  '{:s}' [{:d}]\".format(label_name, label_id ))\n",
    "print(\"Original size: \", original_size)\n",
    "print(\"Sign coordinates: \", sign_coordinates)\n",
    "\n",
    "plt.figure(figsize=(1,1))\n",
    "plt.imshow(feature)"
   ]
  },
  {
   "cell_type": "markdown",
   "metadata": {},
   "source": [
    "----\n",
    "\n",
    "## Step 2: Design and Test a Model Architecture\n",
    "\n",
    "Design and implement a deep learning model that learns to recognize traffic signs. Train and test your model on the [German Traffic Sign Dataset](http://benchmark.ini.rub.de/?section=gtsrb&subsection=dataset).\n",
    "\n",
    "The LeNet-5 implementation shown in the [classroom](https://classroom.udacity.com/nanodegrees/nd013/parts/fbf77062-5703-404e-b60c-95b78b2f3f9e/modules/6df7ae49-c61c-4bb2-a23e-6527e69209ec/lessons/601ae704-1035-4287-8b11-e2c2716217ad/concepts/d4aca031-508f-4e0b-b493-e7b706120f81) at the end of the CNN lesson is a solid starting point. You'll have to change the number of classes and possibly the preprocessing, but aside from that it's plug and play! \n",
    "\n",
    "With the LeNet-5 solution from the lecture, you should expect a validation set accuracy of about 0.89. To meet specifications, the validation set accuracy will need to be at least 0.93. It is possible to get an even higher accuracy, but 0.93 is the minimum for a successful project submission. \n",
    "\n",
    "There are various aspects to consider when thinking about this problem:\n",
    "\n",
    "- Neural network architecture (is the network over or underfitting?)\n",
    "- Play around preprocessing techniques (normalization, rgb to grayscale, etc)\n",
    "- Number of examples per label (some have more than others).\n",
    "- Generate fake data.\n",
    "\n",
    "Here is an example of a [published baseline model on this problem](http://yann.lecun.com/exdb/publis/pdf/sermanet-ijcnn-11.pdf). It's not required to be familiar with the approach used in the paper but, it's good practice to try to read papers like these."
   ]
  },
  {
   "cell_type": "markdown",
   "metadata": {},
   "source": [
    "### Pre-process the Data Set (normalization, grayscale, etc.)"
   ]
  },
  {
   "cell_type": "markdown",
   "metadata": {},
   "source": [
    "Minimally, the image data should be normalized so that the data has mean zero and equal variance. For image data, `(pixel - 128)/ 128` is a quick way to approximately normalize the data and can be used in this project. \n",
    "\n",
    "Other pre-processing steps are optional. You can try different techniques to see if it improves performance. \n",
    "\n",
    "Use the code cell (or multiple code cells, if necessary) to implement the first step of your project."
   ]
  },
  {
   "cell_type": "code",
   "execution_count": null,
   "metadata": {
    "collapsed": true
   },
   "outputs": [],
   "source": [
    "### Preprocess the data here. It is required to normalize the data. Other preprocessing steps could include \n",
    "### converting to grayscale, etc.\n",
    "### Feel free to use as many code cells as needed."
   ]
  },
  {
   "cell_type": "markdown",
   "metadata": {},
   "source": [
    "### Model Architecture"
   ]
  },
  {
   "cell_type": "code",
   "execution_count": null,
   "metadata": {
    "collapsed": true
   },
   "outputs": [],
   "source": [
    "### Define your architecture here.\n",
    "### Feel free to use as many code cells as needed."
   ]
  },
  {
   "cell_type": "markdown",
   "metadata": {},
   "source": [
    "### Train, Validate and Test the Model"
   ]
  },
  {
   "cell_type": "markdown",
   "metadata": {},
   "source": [
    "A validation set can be used to assess how well the model is performing. A low accuracy on the training and validation\n",
    "sets imply underfitting. A high accuracy on the training set but low accuracy on the validation set implies overfitting."
   ]
  },
  {
   "cell_type": "code",
   "execution_count": null,
   "metadata": {
    "collapsed": true
   },
   "outputs": [],
   "source": [
    "### Train your model here.\n",
    "### Calculate and report the accuracy on the training and validation set.\n",
    "### Once a final model architecture is selected, \n",
    "### the accuracy on the test set should be calculated and reported as well.\n",
    "### Feel free to use as many code cells as needed."
   ]
  },
  {
   "cell_type": "markdown",
   "metadata": {},
   "source": [
    "---\n",
    "\n",
    "## Step 3: Test a Model on New Images\n",
    "\n",
    "To give yourself more insight into how your model is working, download at least five pictures of German traffic signs from the web and use your model to predict the traffic sign type.\n",
    "\n",
    "You may find `signnames.csv` useful as it contains mappings from the class id (integer) to the actual sign name."
   ]
  },
  {
   "cell_type": "markdown",
   "metadata": {},
   "source": [
    "### Load and Output the Images"
   ]
  },
  {
   "cell_type": "code",
   "execution_count": null,
   "metadata": {
    "collapsed": true
   },
   "outputs": [],
   "source": [
    "### Load the images and plot them here.\n",
    "### Feel free to use as many code cells as needed."
   ]
  },
  {
   "cell_type": "markdown",
   "metadata": {},
   "source": [
    "### Predict the Sign Type for Each Image"
   ]
  },
  {
   "cell_type": "code",
   "execution_count": null,
   "metadata": {
    "collapsed": true
   },
   "outputs": [],
   "source": [
    "### Run the predictions here and use the model to output the prediction for each image.\n",
    "### Make sure to pre-process the images with the same pre-processing pipeline used earlier.\n",
    "### Feel free to use as many code cells as needed."
   ]
  },
  {
   "cell_type": "markdown",
   "metadata": {},
   "source": [
    "### Analyze Performance"
   ]
  },
  {
   "cell_type": "code",
   "execution_count": null,
   "metadata": {
    "collapsed": true
   },
   "outputs": [],
   "source": [
    "### Calculate the accuracy for these 5 new images. \n",
    "### For example, if the model predicted 1 out of 5 signs correctly, it's 20% accurate on these new images."
   ]
  },
  {
   "cell_type": "markdown",
   "metadata": {},
   "source": [
    "### Output Top 5 Softmax Probabilities For Each Image Found on the Web"
   ]
  },
  {
   "cell_type": "markdown",
   "metadata": {},
   "source": [
    "For each of the new images, print out the model's softmax probabilities to show the **certainty** of the model's predictions (limit the output to the top 5 probabilities for each image). [`tf.nn.top_k`](https://www.tensorflow.org/versions/r0.12/api_docs/python/nn.html#top_k) could prove helpful here. \n",
    "\n",
    "The example below demonstrates how tf.nn.top_k can be used to find the top k predictions for each image.\n",
    "\n",
    "`tf.nn.top_k` will return the values and indices (class ids) of the top k predictions. So if k=3, for each sign, it'll return the 3 largest probabilities (out of a possible 43) and the correspoding class ids.\n",
    "\n",
    "Take this numpy array as an example. The values in the array represent predictions. The array contains softmax probabilities for five candidate images with six possible classes. `tf.nn.top_k` is used to choose the three classes with the highest probability:\n",
    "\n",
    "```\n",
    "# (5, 6) array\n",
    "a = np.array([[ 0.24879643,  0.07032244,  0.12641572,  0.34763842,  0.07893497,\n",
    "         0.12789202],\n",
    "       [ 0.28086119,  0.27569815,  0.08594638,  0.0178669 ,  0.18063401,\n",
    "         0.15899337],\n",
    "       [ 0.26076848,  0.23664738,  0.08020603,  0.07001922,  0.1134371 ,\n",
    "         0.23892179],\n",
    "       [ 0.11943333,  0.29198961,  0.02605103,  0.26234032,  0.1351348 ,\n",
    "         0.16505091],\n",
    "       [ 0.09561176,  0.34396535,  0.0643941 ,  0.16240774,  0.24206137,\n",
    "         0.09155967]])\n",
    "```\n",
    "\n",
    "Running it through `sess.run(tf.nn.top_k(tf.constant(a), k=3))` produces:\n",
    "\n",
    "```\n",
    "TopKV2(values=array([[ 0.34763842,  0.24879643,  0.12789202],\n",
    "       [ 0.28086119,  0.27569815,  0.18063401],\n",
    "       [ 0.26076848,  0.23892179,  0.23664738],\n",
    "       [ 0.29198961,  0.26234032,  0.16505091],\n",
    "       [ 0.34396535,  0.24206137,  0.16240774]]), indices=array([[3, 0, 5],\n",
    "       [0, 1, 4],\n",
    "       [0, 5, 1],\n",
    "       [1, 3, 5],\n",
    "       [1, 4, 3]], dtype=int32))\n",
    "```\n",
    "\n",
    "Looking just at the first row we get `[ 0.34763842,  0.24879643,  0.12789202]`, you can confirm these are the 3 largest probabilities in `a`. You'll also notice `[3, 0, 5]` are the corresponding indices."
   ]
  },
  {
   "cell_type": "code",
   "execution_count": null,
   "metadata": {
    "collapsed": true
   },
   "outputs": [],
   "source": [
    "### Print out the top five softmax probabilities for the predictions on the German traffic sign images found on the web. \n",
    "### Feel free to use as many code cells as needed."
   ]
  },
  {
   "cell_type": "markdown",
   "metadata": {},
   "source": [
    "### Project Writeup\n",
    "\n",
    "Once you have completed the code implementation, document your results in a project writeup using this [template](https://github.com/udacity/CarND-Traffic-Sign-Classifier-Project/blob/master/writeup_template.md) as a guide. The writeup can be in a markdown or pdf file. "
   ]
  },
  {
   "cell_type": "markdown",
   "metadata": {},
   "source": [
    "> **Note**: Once you have completed all of the code implementations and successfully answered each question above, you may finalize your work by exporting the iPython Notebook as an HTML document. You can do this by using the menu above and navigating to  \\n\",\n",
    "    \"**File -> Download as -> HTML (.html)**. Include the finished document along with this notebook as your submission."
   ]
  },
  {
   "cell_type": "markdown",
   "metadata": {},
   "source": [
    "---\n",
    "\n",
    "## Step 4 (Optional): Visualize the Neural Network's State with Test Images\n",
    "\n",
    " This Section is not required to complete but acts as an additional excersise for understaning the output of a neural network's weights. While neural networks can be a great learning device they are often referred to as a black box. We can understand what the weights of a neural network look like better by plotting their feature maps. After successfully training your neural network you can see what it's feature maps look like by plotting the output of the network's weight layers in response to a test stimuli image. From these plotted feature maps, it's possible to see what characteristics of an image the network finds interesting. For a sign, maybe the inner network feature maps react with high activation to the sign's boundary outline or to the contrast in the sign's painted symbol.\n",
    "\n",
    " Provided for you below is the function code that allows you to get the visualization output of any tensorflow weight layer you want. The inputs to the function should be a stimuli image, one used during training or a new one you provided, and then the tensorflow variable name that represents the layer's state during the training process, for instance if you wanted to see what the [LeNet lab's](https://classroom.udacity.com/nanodegrees/nd013/parts/fbf77062-5703-404e-b60c-95b78b2f3f9e/modules/6df7ae49-c61c-4bb2-a23e-6527e69209ec/lessons/601ae704-1035-4287-8b11-e2c2716217ad/concepts/d4aca031-508f-4e0b-b493-e7b706120f81) feature maps looked like for it's second convolutional layer you could enter conv2 as the tf_activation variable.\n",
    "\n",
    "For an example of what feature map outputs look like, check out NVIDIA's results in their paper [End-to-End Deep Learning for Self-Driving Cars](https://devblogs.nvidia.com/parallelforall/deep-learning-self-driving-cars/) in the section Visualization of internal CNN State. NVIDIA was able to show that their network's inner weights had high activations to road boundary lines by comparing feature maps from an image with a clear path to one without. Try experimenting with a similar test to show that your trained network's weights are looking for interesting features, whether it's looking at differences in feature maps from images with or without a sign, or even what feature maps look like in a trained network vs a completely untrained one on the same sign image.\n",
    "\n",
    "<figure>\n",
    " <img src=\"visualize_cnn.png\" width=\"380\" alt=\"Combined Image\" />\n",
    " <figcaption>\n",
    " <p></p> \n",
    " <p style=\"text-align: center;\"> Your output should look something like this (above)</p> \n",
    " </figcaption>\n",
    "</figure>\n",
    " <p></p> \n"
   ]
  },
  {
   "cell_type": "code",
   "execution_count": null,
   "metadata": {
    "collapsed": true
   },
   "outputs": [],
   "source": [
    "### Visualize your network's feature maps here.\n",
    "### Feel free to use as many code cells as needed.\n",
    "\n",
    "# image_input: the test image being fed into the network to produce the feature maps\n",
    "# tf_activation: should be a tf variable name used during your training procedure that represents the calculated state of a specific weight layer\n",
    "# activation_min/max: can be used to view the activation contrast in more detail, by default matplot sets min and max to the actual min and max values of the output\n",
    "# plt_num: used to plot out multiple different weight feature map sets on the same block, just extend the plt number for each new feature map entry\n",
    "\n",
    "def outputFeatureMap(image_input, tf_activation, activation_min=-1, activation_max=-1 ,plt_num=1):\n",
    "    # Here make sure to preprocess your image_input in a way your network expects\n",
    "    # with size, normalization, ect if needed\n",
    "    # image_input =\n",
    "    # Note: x should be the same name as your network's tensorflow data placeholder variable\n",
    "    # If you get an error tf_activation is not defined it may be having trouble accessing the variable from inside a function\n",
    "    activation = tf_activation.eval(session=sess,feed_dict={x : image_input})\n",
    "    featuremaps = activation.shape[3]\n",
    "    plt.figure(plt_num, figsize=(15,15))\n",
    "    for featuremap in range(featuremaps):\n",
    "        plt.subplot(6,8, featuremap+1) # sets the number of feature maps to show on each row and column\n",
    "        plt.title('FeatureMap ' + str(featuremap)) # displays the feature map number\n",
    "        if activation_min != -1 & activation_max != -1:\n",
    "            plt.imshow(activation[0,:,:, featuremap], interpolation=\"nearest\", vmin =activation_min, vmax=activation_max, cmap=\"gray\")\n",
    "        elif activation_max != -1:\n",
    "            plt.imshow(activation[0,:,:, featuremap], interpolation=\"nearest\", vmax=activation_max, cmap=\"gray\")\n",
    "        elif activation_min !=-1:\n",
    "            plt.imshow(activation[0,:,:, featuremap], interpolation=\"nearest\", vmin=activation_min, cmap=\"gray\")\n",
    "        else:\n",
    "            plt.imshow(activation[0,:,:, featuremap], interpolation=\"nearest\", cmap=\"gray\")"
   ]
  }
 ],
 "metadata": {
  "anaconda-cloud": {},
  "kernelspec": {
   "name": "Python 3.8.6 64-bit",
   "display_name": "Python 3.8.6 64-bit",
   "metadata": {
    "interpreter": {
     "hash": "d2152fd7f0bbc62aa1baff8c990435d1e2c7175d001561303988032604c11a48"
    }
   }
  },
  "language_info": {
   "codemirror_mode": {
    "name": "ipython",
    "version": 3
   },
   "file_extension": ".py",
   "mimetype": "text/x-python",
   "name": "python",
   "nbconvert_exporter": "python",
   "pygments_lexer": "ipython3",
   "version": "3.8.6-final"
  }
 },
 "nbformat": 4,
 "nbformat_minor": 1
}